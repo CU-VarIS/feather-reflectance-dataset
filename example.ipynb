{
 "cells": [
  {
   "cell_type": "markdown",
   "id": "b69ccb68",
   "metadata": {},
   "source": []
  },
  {
   "cell_type": "code",
   "execution_count": 1,
   "id": "df35a082",
   "metadata": {},
   "outputs": [],
   "source": [
    "%load_ext autoreload\n",
    "%autoreload 2"
   ]
  },
  {
   "cell_type": "code",
   "execution_count": 6,
   "id": "ccc38ac5",
   "metadata": {},
   "outputs": [],
   "source": [
    "from varis_feather.Space import OLATCapture, RetroreflectionCapture\n"
   ]
  },
  {
   "cell_type": "code",
   "execution_count": null,
   "id": "a5d336af",
   "metadata": {},
   "outputs": [],
   "source": []
  }
 ],
 "metadata": {
  "kernelspec": {
   "display_name": "py",
   "language": "python",
   "name": "python3"
  },
  "language_info": {
   "codemirror_mode": {
    "name": "ipython",
    "version": 3
   },
   "file_extension": ".py",
   "mimetype": "text/x-python",
   "name": "python",
   "nbconvert_exporter": "python",
   "pygments_lexer": "ipython3",
   "version": "3.13.5"
  }
 },
 "nbformat": 4,
 "nbformat_minor": 5
}
